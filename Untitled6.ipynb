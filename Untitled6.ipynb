{
  "nbformat": 4,
  "nbformat_minor": 0,
  "metadata": {
    "colab": {
      "name": "Untitled6.ipynb",
      "provenance": [],
      "collapsed_sections": [],
      "authorship_tag": "ABX9TyNcKRpCpjbJ4WYDrk7Rn4Fp",
      "include_colab_link": true
    },
    "kernelspec": {
      "name": "python3",
      "display_name": "Python 3"
    },
    "language_info": {
      "name": "python"
    }
  },
  "cells": [
    {
      "cell_type": "markdown",
      "metadata": {
        "id": "view-in-github",
        "colab_type": "text"
      },
      "source": [
        "<a href=\"https://colab.research.google.com/github/rajpratyush/sample1/blob/main/Untitled6.ipynb\" target=\"_parent\"><img src=\"https://colab.research.google.com/assets/colab-badge.svg\" alt=\"Open In Colab\"/></a>"
      ]
    },
    {
      "cell_type": "markdown",
      "source": [
        "code to fetch the transcript"
      ],
      "metadata": {
        "id": "upATA5zoWiTj"
      }
    },
    {
      "cell_type": "code",
      "execution_count": null,
      "metadata": {
        "id": "k_18D4y1Ur5-"
      },
      "outputs": [],
      "source": [
        "transcribe = boto3.client('transcribe', aws_access_key_id=ACCESS_KEY,\n",
        "                              aws_secret_access_key=SECRET_KEY, region_name='ap-south-1')\n",
        "job_name = meetingid\n",
        "status = transcribe.get_transcription_job(TranscriptionJobName=job_name)\n",
        "data = json.dumps(status, indent=4, sort_keys=True, default=str)\n",
        "info = json.loads(data)\n",
        "jobstatus =  info['TranscriptionJob']['TranscriptionJobStatus']\n",
        "url = info['TranscriptionJob']['Transcript']['TranscriptFileUri']\n",
        "transcript = requests.get(url)\n",
        "transcript = transcript.json()"
      ]
    },
    {
      "cell_type": "markdown",
      "source": [
        "code to upload the document"
      ],
      "metadata": {
        "id": "1A0jho4AWnn9"
      }
    },
    {
      "cell_type": "code",
      "source": [
        "curl https://api.openai.com/v1/files \\\n",
        "  -H \"Authorization: Bearer YOUR_API_KEY\" \\\n",
        "  -F purpose=\"answers\" \\\n",
        "  -F file='@puppy.jsonl'\n"
      ],
      "metadata": {
        "id": "wYVmeBmkWg1t"
      },
      "execution_count": null,
      "outputs": []
    }
  ]
}